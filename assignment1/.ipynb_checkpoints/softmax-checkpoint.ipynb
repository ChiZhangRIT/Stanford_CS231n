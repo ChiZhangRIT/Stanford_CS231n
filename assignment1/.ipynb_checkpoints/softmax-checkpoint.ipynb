{
 "cells": [
  {
   "cell_type": "markdown",
   "metadata": {},
   "source": [
    "# Softmax exercise\n",
    "\n",
    "*Complete and hand in this completed worksheet (including its outputs and any supporting code outside of the worksheet) with your assignment submission. For more details see the [assignments page](http://vision.stanford.edu/teaching/cs231n/assignments.html) on the course website.*\n",
    "\n",
    "This exercise is analogous to the SVM exercise. You will:\n",
    "\n",
    "- implement a fully-vectorized **loss function** for the Softmax classifier\n",
    "- implement the fully-vectorized expression for its **analytic gradient**\n",
    "- **check your implementation** with numerical gradient\n",
    "- use a validation set to **tune the learning rate and regularization** strength\n",
    "- **optimize** the loss function with **SGD**\n",
    "- **visualize** the final learned weights\n"
   ]
  },
  {
   "cell_type": "code",
   "execution_count": 1,
   "metadata": {
    "collapsed": true
   },
   "outputs": [],
   "source": [
    "import random\n",
    "import numpy as np\n",
    "from cs231n.data_utils import load_CIFAR10\n",
    "import matplotlib.pyplot as plt\n",
    "%matplotlib inline\n",
    "plt.rcParams['figure.figsize'] = (10.0, 8.0) # set default size of plots\n",
    "plt.rcParams['image.interpolation'] = 'nearest'\n",
    "plt.rcParams['image.cmap'] = 'gray'\n",
    "\n",
    "# for auto-reloading extenrnal modules\n",
    "# see http://stackoverflow.com/questions/1907993/autoreload-of-modules-in-ipython\n",
    "%load_ext autoreload\n",
    "%autoreload 2"
   ]
  },
  {
   "cell_type": "code",
   "execution_count": 2,
   "metadata": {
    "collapsed": false
   },
   "outputs": [
    {
     "name": "stdout",
     "output_type": "stream",
     "text": [
      "Train data shape:  (49000L, 3073L)\n",
      "Train labels shape:  (49000L,)\n",
      "Validation data shape:  (1000L, 3073L)\n",
      "Validation labels shape:  (1000L,)\n",
      "Test data shape:  (1000L, 3073L)\n",
      "Test labels shape:  (1000L,)\n",
      "dev data shape:  (500L, 3073L)\n",
      "dev labels shape:  (500L,)\n"
     ]
    }
   ],
   "source": [
    "def get_CIFAR10_data(num_training=49000, num_validation=1000, num_test=1000, num_dev=500):\n",
    "  \"\"\"\n",
    "  Load the CIFAR-10 dataset from disk and perform preprocessing to prepare\n",
    "  it for the linear classifier. These are the same steps as we used for the\n",
    "  SVM, but condensed to a single function.  \n",
    "  \"\"\"\n",
    "  # Load the raw CIFAR-10 data\n",
    "  cifar10_dir = 'cs231n/datasets/cifar-10-batches-py'\n",
    "  X_train, y_train, X_test, y_test = load_CIFAR10(cifar10_dir)\n",
    "  \n",
    "  # subsample the data\n",
    "  mask = range(num_training, num_training + num_validation)\n",
    "  X_val = X_train[mask]\n",
    "  y_val = y_train[mask]\n",
    "  mask = range(num_training)\n",
    "  X_train = X_train[mask]\n",
    "  y_train = y_train[mask]\n",
    "  mask = range(num_test)\n",
    "  X_test = X_test[mask]\n",
    "  y_test = y_test[mask]\n",
    "  mask = np.random.choice(num_training, num_dev, replace=False)\n",
    "  X_dev = X_train[mask]\n",
    "  y_dev = y_train[mask]\n",
    "  \n",
    "  # Preprocessing: reshape the image data into rows\n",
    "  X_train = np.reshape(X_train, (X_train.shape[0], -1))\n",
    "  X_val = np.reshape(X_val, (X_val.shape[0], -1))\n",
    "  X_test = np.reshape(X_test, (X_test.shape[0], -1))\n",
    "  X_dev = np.reshape(X_dev, (X_dev.shape[0], -1))\n",
    "  \n",
    "  # Normalize the data: subtract the mean image\n",
    "  mean_image = np.mean(X_train, axis = 0)\n",
    "  X_train -= mean_image\n",
    "  X_val -= mean_image\n",
    "  X_test -= mean_image\n",
    "  X_dev -= mean_image\n",
    "  \n",
    "  # add bias dimension and transform into columns\n",
    "  X_train = np.hstack([X_train, np.ones((X_train.shape[0], 1))])\n",
    "  X_val = np.hstack([X_val, np.ones((X_val.shape[0], 1))])\n",
    "  X_test = np.hstack([X_test, np.ones((X_test.shape[0], 1))])\n",
    "  X_dev = np.hstack([X_dev, np.ones((X_dev.shape[0], 1))])\n",
    "  \n",
    "  return X_train, y_train, X_val, y_val, X_test, y_test, X_dev, y_dev\n",
    "\n",
    "\n",
    "# Invoke the above function to get our data.\n",
    "X_train, y_train, X_val, y_val, X_test, y_test, X_dev, y_dev = get_CIFAR10_data()\n",
    "print 'Train data shape: ', X_train.shape\n",
    "print 'Train labels shape: ', y_train.shape\n",
    "print 'Validation data shape: ', X_val.shape\n",
    "print 'Validation labels shape: ', y_val.shape\n",
    "print 'Test data shape: ', X_test.shape\n",
    "print 'Test labels shape: ', y_test.shape\n",
    "print 'dev data shape: ', X_dev.shape\n",
    "print 'dev labels shape: ', y_dev.shape"
   ]
  },
  {
   "cell_type": "markdown",
   "metadata": {},
   "source": [
    "## Softmax Classifier\n",
    "\n",
    "Your code for this section will all be written inside **cs231n/classifiers/softmax.py**. \n"
   ]
  },
  {
   "cell_type": "code",
   "execution_count": 3,
   "metadata": {
    "collapsed": false
   },
   "outputs": [
    {
     "name": "stdout",
     "output_type": "stream",
     "text": [
      "loss: 2.370492\n",
      "sanity check: 2.302585\n"
     ]
    }
   ],
   "source": [
    "# First implement the naive softmax loss function with nested loops.\n",
    "# Open the file cs231n/classifiers/softmax.py and implement the\n",
    "# softmax_loss_naive function.\n",
    "\n",
    "from cs231n.classifiers.softmax import softmax_loss_naive\n",
    "import time\n",
    "\n",
    "# Generate a random softmax weight matrix and use it to compute the loss.\n",
    "W = np.random.randn(3073, 10) * 0.0001\n",
    "loss, grad = softmax_loss_naive(W, X_dev, y_dev, 0.0)\n",
    "\n",
    "# As a rough sanity check, our loss should be something close to -log(0.1).\n",
    "print 'loss: %f' % loss\n",
    "print 'sanity check: %f' % (-np.log(0.1))"
   ]
  },
  {
   "cell_type": "markdown",
   "metadata": {},
   "source": [
    "## Inline Question 1:\n",
    "Why do we expect our loss to be close to -log(0.1)? Explain briefly.**\n",
    "\n",
    "**Your answer:** *The initialization makes the weights very small that leads to the nearly zero scores for each classes. Therefore, the softmax function reduces to $e^{0}=1$ in the denominator and $\\sum_je^0=number\\ of\\ classes$* which results in that the loss is going to be minus log of one over number of classes, i.e., $-\\log(\\dfrac{1}{10})$ in this case.\n"
   ]
  },
  {
   "cell_type": "markdown",
   "metadata": {},
   "source": [
    "Chi's Note: The cross-entropy loss is defined as $$ L_i = -\\log{\\dfrac{e^{f_{y_i}}}{\\sum_j{e^{f_j}}}}, $$ the derivtive for $j\\neq y_i$ is $$ \\dfrac{dL_i}{dW}=\\dfrac{e^{f_j}}{\\sum_je^{f_j}}X_i, $$ and for $j=y_i,$ $$ \\dfrac{dL_i}{dW}=(\\dfrac{e^{f_{y_i}}}{\\sum_je^{f_j}}-1)X_i. $$"
   ]
  },
  {
   "cell_type": "code",
   "execution_count": 4,
   "metadata": {
    "collapsed": false
   },
   "outputs": [
    {
     "name": "stdout",
     "output_type": "stream",
     "text": [
      "numerical: 1.629530 analytic: 1.629530, relative error: 1.524389e-08\n",
      "numerical: -0.035496 analytic: -0.035496, relative error: 3.873966e-07\n",
      "numerical: -2.672684 analytic: -2.672684, relative error: 3.528958e-08\n",
      "numerical: 4.228619 analytic: 4.228619, relative error: 7.642193e-09\n",
      "numerical: 1.162603 analytic: 1.162603, relative error: 1.914628e-08\n",
      "numerical: 0.714684 analytic: 0.714684, relative error: 1.503196e-08\n",
      "numerical: -0.121415 analytic: -0.121415, relative error: 1.548104e-07\n",
      "numerical: 0.591859 analytic: 0.591859, relative error: 3.368210e-10\n",
      "numerical: -0.251541 analytic: -0.251541, relative error: 3.288248e-07\n",
      "numerical: -1.753598 analytic: -1.753598, relative error: 1.228213e-08\n",
      "numerical: 1.418569 analytic: 1.418570, relative error: 9.127862e-09\n",
      "numerical: 0.806336 analytic: 0.806336, relative error: 1.757238e-09\n",
      "numerical: -1.808640 analytic: -1.808640, relative error: 1.980675e-08\n",
      "numerical: 0.784725 analytic: 0.784725, relative error: 4.382251e-08\n",
      "numerical: -0.152040 analytic: -0.152040, relative error: 5.039737e-08\n",
      "numerical: 2.186614 analytic: 2.186614, relative error: 1.924157e-08\n",
      "numerical: 0.288506 analytic: 0.288506, relative error: 8.324162e-08\n",
      "numerical: -1.932926 analytic: -1.932926, relative error: 3.968411e-08\n",
      "numerical: -0.265751 analytic: -0.265751, relative error: 3.181432e-07\n",
      "numerical: -0.077699 analytic: -0.077699, relative error: 1.523675e-07\n"
     ]
    }
   ],
   "source": [
    "# Complete the implementation of softmax_loss_naive and implement a (naive)\n",
    "# version of the gradient that uses nested loops.\n",
    "loss, grad = softmax_loss_naive(W, X_dev, y_dev, 0.0)\n",
    "\n",
    "# As we did for the SVM, use numeric gradient checking as a debugging tool.\n",
    "# The numeric gradient should be close to the analytic gradient.\n",
    "from cs231n.gradient_check import grad_check_sparse\n",
    "f = lambda w: softmax_loss_naive(w, X_dev, y_dev, 0.0)[0]\n",
    "grad_numerical = grad_check_sparse(f, W, grad, 10)\n",
    "\n",
    "# similar to SVM case, do another gradient check with regularization\n",
    "loss, grad = softmax_loss_naive(W, X_dev, y_dev, 1e2)\n",
    "f = lambda w: softmax_loss_naive(w, X_dev, y_dev, 1e2)[0]\n",
    "grad_numerical = grad_check_sparse(f, W, grad, 10)"
   ]
  },
  {
   "cell_type": "code",
   "execution_count": 12,
   "metadata": {
    "collapsed": false
   },
   "outputs": [
    {
     "name": "stdout",
     "output_type": "stream",
     "text": [
      "naive loss: 2.370492e+00 computed in 0.123000s\n",
      "vectorized loss: 2.370492e+00 computed in 0.015000s\n",
      "Loss difference: 0.000000\n",
      "Gradient difference: 0.000000\n"
     ]
    }
   ],
   "source": [
    "# Now that we have a naive implementation of the softmax loss function and its gradient,\n",
    "# implement a vectorized version in softmax_loss_vectorized.\n",
    "# The two versions should compute the same results, but the vectorized version should be\n",
    "# much faster.\n",
    "tic = time.time()\n",
    "loss_naive, grad_naive = softmax_loss_naive(W, X_dev, y_dev, 0.00001)\n",
    "toc = time.time()\n",
    "print 'naive loss: %e computed in %fs' % (loss_naive, toc - tic)\n",
    "\n",
    "from cs231n.classifiers.softmax import softmax_loss_vectorized\n",
    "tic = time.time()\n",
    "loss_vectorized, grad_vectorized = softmax_loss_vectorized(W, X_dev, y_dev, 0.00001)\n",
    "toc = time.time()\n",
    "print 'vectorized loss: %e computed in %fs' % (loss_vectorized, toc - tic)\n",
    "\n",
    "# As we did for the SVM, we use the Frobenius norm to compare the two versions\n",
    "# of the gradient.\n",
    "grad_difference = np.linalg.norm(grad_naive - grad_vectorized, ord='fro')\n",
    "print 'Loss difference: %f' % np.abs(loss_naive - loss_vectorized)\n",
    "print 'Gradient difference: %f' % grad_difference"
   ]
  },
  {
   "cell_type": "code",
   "execution_count": 13,
   "metadata": {
    "collapsed": false
   },
   "outputs": [
    {
     "name": "stdout",
     "output_type": "stream",
     "text": [
      "lr 1.000000e-08 reg 5.000000e+04 train accuracy: 0.158490 val accuracy: 0.156000\n",
      "lr 1.000000e-08 reg 5.500000e+04 train accuracy: 0.176184 val accuracy: 0.174000\n",
      "lr 1.000000e-08 reg 6.000000e+04 train accuracy: 0.164000 val accuracy: 0.155000\n",
      "lr 1.000000e-08 reg 6.500000e+04 train accuracy: 0.163633 val accuracy: 0.160000\n",
      "lr 1.000000e-08 reg 7.000000e+04 train accuracy: 0.168102 val accuracy: 0.178000\n",
      "lr 1.000000e-08 reg 7.500000e+04 train accuracy: 0.157163 val accuracy: 0.171000\n",
      "lr 1.000000e-08 reg 8.000000e+04 train accuracy: 0.166878 val accuracy: 0.161000\n",
      "lr 1.000000e-08 reg 8.500000e+04 train accuracy: 0.180041 val accuracy: 0.220000\n",
      "lr 1.000000e-08 reg 9.000000e+04 train accuracy: 0.138959 val accuracy: 0.137000\n",
      "lr 1.000000e-08 reg 9.500000e+04 train accuracy: 0.164857 val accuracy: 0.150000\n",
      "lr 6.000000e-08 reg 5.000000e+04 train accuracy: 0.321755 val accuracy: 0.336000\n",
      "lr 6.000000e-08 reg 5.500000e+04 train accuracy: 0.319612 val accuracy: 0.335000\n",
      "lr 6.000000e-08 reg 6.000000e+04 train accuracy: 0.319612 val accuracy: 0.338000\n",
      "lr 6.000000e-08 reg 6.500000e+04 train accuracy: 0.313776 val accuracy: 0.325000\n",
      "lr 6.000000e-08 reg 7.000000e+04 train accuracy: 0.320980 val accuracy: 0.334000\n",
      "lr 6.000000e-08 reg 7.500000e+04 train accuracy: 0.316082 val accuracy: 0.322000\n",
      "lr 6.000000e-08 reg 8.000000e+04 train accuracy: 0.310592 val accuracy: 0.325000\n",
      "lr 6.000000e-08 reg 8.500000e+04 train accuracy: 0.312694 val accuracy: 0.327000\n",
      "lr 6.000000e-08 reg 9.000000e+04 train accuracy: 0.312490 val accuracy: 0.328000\n",
      "lr 6.000000e-08 reg 9.500000e+04 train accuracy: 0.310061 val accuracy: 0.323000\n",
      "lr 1.100000e-07 reg 5.000000e+04 train accuracy: 0.334612 val accuracy: 0.354000\n",
      "lr 1.100000e-07 reg 5.500000e+04 train accuracy: 0.332592 val accuracy: 0.348000\n",
      "lr 1.100000e-07 reg 6.000000e+04 train accuracy: 0.325082 val accuracy: 0.342000\n",
      "lr 1.100000e-07 reg 6.500000e+04 train accuracy: 0.318714 val accuracy: 0.333000\n",
      "lr 1.100000e-07 reg 7.000000e+04 train accuracy: 0.319980 val accuracy: 0.330000\n",
      "lr 1.100000e-07 reg 7.500000e+04 train accuracy: 0.313367 val accuracy: 0.331000\n",
      "lr 1.100000e-07 reg 8.000000e+04 train accuracy: 0.304980 val accuracy: 0.326000\n",
      "lr 1.100000e-07 reg 8.500000e+04 train accuracy: 0.305061 val accuracy: 0.320000\n",
      "lr 1.100000e-07 reg 9.000000e+04 train accuracy: 0.307102 val accuracy: 0.330000\n",
      "lr 1.100000e-07 reg 9.500000e+04 train accuracy: 0.312245 val accuracy: 0.328000\n",
      "lr 1.600000e-07 reg 5.000000e+04 train accuracy: 0.324592 val accuracy: 0.350000\n",
      "lr 1.600000e-07 reg 5.500000e+04 train accuracy: 0.325408 val accuracy: 0.344000\n",
      "lr 1.600000e-07 reg 6.000000e+04 train accuracy: 0.322980 val accuracy: 0.343000\n",
      "lr 1.600000e-07 reg 6.500000e+04 train accuracy: 0.322327 val accuracy: 0.337000\n",
      "lr 1.600000e-07 reg 7.000000e+04 train accuracy: 0.315184 val accuracy: 0.335000\n",
      "lr 1.600000e-07 reg 7.500000e+04 train accuracy: 0.315429 val accuracy: 0.325000\n",
      "lr 1.600000e-07 reg 8.000000e+04 train accuracy: 0.310592 val accuracy: 0.324000\n",
      "lr 1.600000e-07 reg 8.500000e+04 train accuracy: 0.306959 val accuracy: 0.321000\n",
      "lr 1.600000e-07 reg 9.000000e+04 train accuracy: 0.306694 val accuracy: 0.322000\n",
      "lr 1.600000e-07 reg 9.500000e+04 train accuracy: 0.302510 val accuracy: 0.322000\n",
      "lr 2.100000e-07 reg 5.000000e+04 train accuracy: 0.329245 val accuracy: 0.351000\n",
      "lr 2.100000e-07 reg 5.500000e+04 train accuracy: 0.318102 val accuracy: 0.334000\n",
      "lr 2.100000e-07 reg 6.000000e+04 train accuracy: 0.323959 val accuracy: 0.340000\n",
      "lr 2.100000e-07 reg 6.500000e+04 train accuracy: 0.318020 val accuracy: 0.333000\n",
      "lr 2.100000e-07 reg 7.000000e+04 train accuracy: 0.322388 val accuracy: 0.330000\n",
      "lr 2.100000e-07 reg 7.500000e+04 train accuracy: 0.308878 val accuracy: 0.321000\n",
      "lr 2.100000e-07 reg 8.000000e+04 train accuracy: 0.319388 val accuracy: 0.338000\n",
      "lr 2.100000e-07 reg 8.500000e+04 train accuracy: 0.306204 val accuracy: 0.315000\n",
      "lr 2.100000e-07 reg 9.000000e+04 train accuracy: 0.316816 val accuracy: 0.329000\n",
      "lr 2.100000e-07 reg 9.500000e+04 train accuracy: 0.306245 val accuracy: 0.323000\n",
      "lr 2.600000e-07 reg 5.000000e+04 train accuracy: 0.336306 val accuracy: 0.352000\n",
      "lr 2.600000e-07 reg 5.500000e+04 train accuracy: 0.324429 val accuracy: 0.336000\n",
      "lr 2.600000e-07 reg 6.000000e+04 train accuracy: 0.323122 val accuracy: 0.340000\n",
      "lr 2.600000e-07 reg 6.500000e+04 train accuracy: 0.323082 val accuracy: 0.326000\n",
      "lr 2.600000e-07 reg 7.000000e+04 train accuracy: 0.321388 val accuracy: 0.341000\n",
      "lr 2.600000e-07 reg 7.500000e+04 train accuracy: 0.316633 val accuracy: 0.330000\n",
      "lr 2.600000e-07 reg 8.000000e+04 train accuracy: 0.311469 val accuracy: 0.331000\n",
      "lr 2.600000e-07 reg 8.500000e+04 train accuracy: 0.311102 val accuracy: 0.331000\n",
      "lr 2.600000e-07 reg 9.000000e+04 train accuracy: 0.311429 val accuracy: 0.332000\n",
      "lr 2.600000e-07 reg 9.500000e+04 train accuracy: 0.307224 val accuracy: 0.329000\n",
      "lr 3.100000e-07 reg 5.000000e+04 train accuracy: 0.323551 val accuracy: 0.345000\n",
      "lr 3.100000e-07 reg 5.500000e+04 train accuracy: 0.329878 val accuracy: 0.348000\n",
      "lr 3.100000e-07 reg 6.000000e+04 train accuracy: 0.313143 val accuracy: 0.331000\n",
      "lr 3.100000e-07 reg 6.500000e+04 train accuracy: 0.319857 val accuracy: 0.341000\n",
      "lr 3.100000e-07 reg 7.000000e+04 train accuracy: 0.311408 val accuracy: 0.333000\n",
      "lr 3.100000e-07 reg 7.500000e+04 train accuracy: 0.318653 val accuracy: 0.324000\n",
      "lr 3.100000e-07 reg 8.000000e+04 train accuracy: 0.318959 val accuracy: 0.334000\n",
      "lr 3.100000e-07 reg 8.500000e+04 train accuracy: 0.320367 val accuracy: 0.328000\n",
      "lr 3.100000e-07 reg 9.000000e+04 train accuracy: 0.308531 val accuracy: 0.321000\n",
      "lr 3.100000e-07 reg 9.500000e+04 train accuracy: 0.310837 val accuracy: 0.326000\n",
      "lr 3.600000e-07 reg 5.000000e+04 train accuracy: 0.328306 val accuracy: 0.328000\n",
      "lr 3.600000e-07 reg 5.500000e+04 train accuracy: 0.320204 val accuracy: 0.332000\n",
      "lr 3.600000e-07 reg 6.000000e+04 train accuracy: 0.319796 val accuracy: 0.342000\n",
      "lr 3.600000e-07 reg 6.500000e+04 train accuracy: 0.319714 val accuracy: 0.326000\n",
      "lr 3.600000e-07 reg 7.000000e+04 train accuracy: 0.312490 val accuracy: 0.334000\n",
      "lr 3.600000e-07 reg 7.500000e+04 train accuracy: 0.308102 val accuracy: 0.323000\n",
      "lr 3.600000e-07 reg 8.000000e+04 train accuracy: 0.303143 val accuracy: 0.319000\n",
      "lr 3.600000e-07 reg 8.500000e+04 train accuracy: 0.299041 val accuracy: 0.317000\n",
      "lr 3.600000e-07 reg 9.000000e+04 train accuracy: 0.310551 val accuracy: 0.332000\n",
      "lr 3.600000e-07 reg 9.500000e+04 train accuracy: 0.314918 val accuracy: 0.330000\n",
      "lr 4.100000e-07 reg 5.000000e+04 train accuracy: 0.324449 val accuracy: 0.340000\n",
      "lr 4.100000e-07 reg 5.500000e+04 train accuracy: 0.319224 val accuracy: 0.330000\n",
      "lr 4.100000e-07 reg 6.000000e+04 train accuracy: 0.312408 val accuracy: 0.334000\n",
      "lr 4.100000e-07 reg 6.500000e+04 train accuracy: 0.314286 val accuracy: 0.324000\n",
      "lr 4.100000e-07 reg 7.000000e+04 train accuracy: 0.299184 val accuracy: 0.323000\n",
      "lr 4.100000e-07 reg 7.500000e+04 train accuracy: 0.301857 val accuracy: 0.310000\n",
      "lr 4.100000e-07 reg 8.000000e+04 train accuracy: 0.305388 val accuracy: 0.322000\n",
      "lr 4.100000e-07 reg 8.500000e+04 train accuracy: 0.314816 val accuracy: 0.329000\n",
      "lr 4.100000e-07 reg 9.000000e+04 train accuracy: 0.300531 val accuracy: 0.315000\n",
      "lr 4.100000e-07 reg 9.500000e+04 train accuracy: 0.295224 val accuracy: 0.305000\n",
      "lr 4.600000e-07 reg 5.000000e+04 train accuracy: 0.324510 val accuracy: 0.338000\n",
      "lr 4.600000e-07 reg 5.500000e+04 train accuracy: 0.323898 val accuracy: 0.343000\n",
      "lr 4.600000e-07 reg 6.000000e+04 train accuracy: 0.325776 val accuracy: 0.338000\n",
      "lr 4.600000e-07 reg 6.500000e+04 train accuracy: 0.315143 val accuracy: 0.330000\n",
      "lr 4.600000e-07 reg 7.000000e+04 train accuracy: 0.306163 val accuracy: 0.325000\n",
      "lr 4.600000e-07 reg 7.500000e+04 train accuracy: 0.316918 val accuracy: 0.314000\n",
      "lr 4.600000e-07 reg 8.000000e+04 train accuracy: 0.296531 val accuracy: 0.320000\n",
      "lr 4.600000e-07 reg 8.500000e+04 train accuracy: 0.305347 val accuracy: 0.319000\n",
      "lr 4.600000e-07 reg 9.000000e+04 train accuracy: 0.308041 val accuracy: 0.320000\n",
      "lr 4.600000e-07 reg 9.500000e+04 train accuracy: 0.294633 val accuracy: 0.316000\n",
      "best validation accuracy achieved during cross-validation: 0.354000\n"
     ]
    }
   ],
   "source": [
    "# Use the validation set to tune hyperparameters (regularization strength and\n",
    "# learning rate). You should experiment with different ranges for the learning\n",
    "# rates and regularization strengths; if you are careful you should be able to\n",
    "# get a classification accuracy of over 0.35 on the validation set.\n",
    "from cs231n.classifiers import Softmax\n",
    "results = {}\n",
    "best_val = -1\n",
    "best_softmax = None\n",
    "learning_rates = [1e-8, 5e-7]  # [1e-7, 5e-7]\n",
    "regularization_strengths = [5e4, 1e5]  # [5e4, 1e8]\n",
    "\n",
    "################################################################################\n",
    "# TODO:                                                                        #\n",
    "# Use the validation set to set the learning rate and regularization strength. #\n",
    "# This should be identical to the validation that you did for the SVM; save    #\n",
    "# the best trained softmax classifer in best_softmax.                          #\n",
    "################################################################################\n",
    "num_iters = 1000\n",
    "for lr in np.arange(learning_rates[0], learning_rates[1], 5e-8):\n",
    "    for reg in np.arange(regularization_strengths[0], regularization_strengths[1], 5e3):\n",
    "        softmax = Softmax()   # initialize softmax object \n",
    "        \n",
    "        softmax.train(X_train, y_train, lr, reg, num_iters, verbose=False)\n",
    "        \n",
    "        y_train_pred = softmax.predict(X_train)\n",
    "        training_accuracy = np.mean(y_train == y_train_pred)\n",
    "        y_val_pred = softmax.predict(X_val)\n",
    "        val_accuracy = np.mean(y_val == y_val_pred)\n",
    "                \n",
    "        if val_accuracy > best_val:\n",
    "            best_val = val_accuracy\n",
    "            best_softmax = softmax\n",
    "        \n",
    "        results[(lr, reg)] = (training_accuracy, val_accuracy) \n",
    "pass\n",
    "################################################################################\n",
    "#                              END OF YOUR CODE                                #\n",
    "################################################################################\n",
    "    \n",
    "# Print out results.\n",
    "for lr, reg in sorted(results):\n",
    "    train_accuracy, val_accuracy = results[(lr, reg)]\n",
    "    print 'lr %e reg %e train accuracy: %f val accuracy: %f' % (\n",
    "                lr, reg, train_accuracy, val_accuracy)\n",
    "    \n",
    "print 'best validation accuracy achieved during cross-validation: %f' % best_val"
   ]
  },
  {
   "cell_type": "code",
   "execution_count": 14,
   "metadata": {
    "collapsed": false
   },
   "outputs": [
    {
     "name": "stdout",
     "output_type": "stream",
     "text": [
      "softmax on raw pixels final test set accuracy: 0.350000\n"
     ]
    }
   ],
   "source": [
    "# evaluate on test set\n",
    "# Evaluate the best softmax on test set\n",
    "y_test_pred = best_softmax.predict(X_test)\n",
    "test_accuracy = np.mean(y_test == y_test_pred)\n",
    "print 'softmax on raw pixels final test set accuracy: %f' % (test_accuracy, )"
   ]
  },
  {
   "cell_type": "code",
   "execution_count": 15,
   "metadata": {
    "collapsed": false
   },
   "outputs": [
    {
     "data": {
      "image/png": "[encoded data removed]"
     },
     "metadata": {},
     "output_type": "display_data"
    }
   ],
   "source": [
    "# Visualize the learned weights for each class\n",
    "w = best_softmax.W[:-1,:] # strip out the bias\n",
    "w = w.reshape(32, 32, 3, 10)\n",
    "\n",
    "w_min, w_max = np.min(w), np.max(w)\n",
    "\n",
    "classes = ['plane', 'car', 'bird', 'cat', 'deer', 'dog', 'frog', 'horse', 'ship', 'truck']\n",
    "for i in xrange(10):\n",
    "  plt.subplot(2, 5, i + 1)\n",
    "  \n",
    "  # Rescale the weights to be between 0 and 255\n",
    "  wimg = 255.0 * (w[:, :, :, i].squeeze() - w_min) / (w_max - w_min)\n",
    "  plt.imshow(wimg.astype('uint8'))\n",
    "  plt.axis('off')\n",
    "  plt.title(classes[i])"
   ]
  },
  {
   "cell_type": "code",
   "execution_count": null,
   "metadata": {
    "collapsed": true
   },
   "outputs": [],
   "source": []
  }
 ],
 "metadata": {
  "kernelspec": {
   "display_name": "Python 2",
   "language": "python",
   "name": "python2"
  },
  "language_info": {
   "codemirror_mode": {
    "name": "ipython",
    "version": 2
   },
   "file_extension": ".py",
   "mimetype": "text/x-python",
   "name": "python",
   "nbconvert_exporter": "python",
   "pygments_lexer": "ipython2",
   "version": "2.7.10"
  }
 },
 "nbformat": 4,
 "nbformat_minor": 0
}
